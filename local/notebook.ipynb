{
 "cells": [
  {
   "cell_type": "code",
   "execution_count": 75,
   "metadata": {},
   "outputs": [],
   "source": [
    "from sklearn import ensemble\n",
    "from sklearn.model_selection import train_test_split\n",
    "from sklearn.metrics import mean_squared_error\n",
    "from sklearn import preprocessing\n",
    "import pandas as pd\n",
    "import numpy as np\n",
    "from datetime import datetime, timedelta"
   ]
  },
  {
   "cell_type": "code",
   "execution_count": 76,
   "metadata": {},
   "outputs": [],
   "source": [
    "from google.cloud import datastore\n",
    "\n",
    "datastore_client = datastore.Client(project='rareyetem')"
   ]
  },
  {
   "cell_type": "code",
   "execution_count": 77,
   "metadata": {},
   "outputs": [],
   "source": [
    "def fetchRain(startDate, endDate, province):\n",
    "    #print(province, startDate, endDate)\n",
    "    # performing province to stationID conversion, a bit costly\n",
    "    stationID = '327501'\n",
    "    stationFile = 'static/thailand_metstation.csv'\n",
    "    df = pd.read_csv(stationFile, dtype={\"province\": str, \"region\":str, \"stncode\":str})\n",
    "    df = df[df[\"province\"] == province]\n",
    "    for idx, row in df.iterrows():\n",
    "        stationID = row.stncode\n",
    "        break\n",
    "\n",
    "    #print('station id', stationID)\n",
    "    query = datastore_client.query(kind='stndate')\n",
    "    query.add_filter('stn', '=', stationID)\n",
    "    query.add_filter('date','>', startDate)\n",
    "    query.add_filter('date','<', endDate)\n",
    "    rain = query.fetch()\n",
    "    return rain\n",
    "\n",
    "def fetchSLA(startDate, endDate):\n",
    "    query = datastore_client.query(kind='date')\n",
    "    query.add_filter('date','>', startDate)\n",
    "    query.add_filter('date','<', endDate)\n",
    "    query.order = ['-date']\n",
    "    slas = query.fetch()\n",
    "    return slas\n",
    "\n",
    "# date is a key\n",
    "sDate = (datetime.now() - timedelta(365)).strftime('%Y-%m-%d')\n",
    "eDate = (datetime.now()).strftime('%Y-%m-%d')\n",
    "\n",
    "# populating training data\n",
    "provinces = pd.read_csv('static/thailand_metstation.csv', dtype={\"province\": str, \"region\":str, \"stncode\":str})\n",
    "\n",
    "\n",
    "# query bob and s-index from google cloud datastore\n",
    "sla = fetchSLA(sDate, eDate)\n",
    "bsIndex = {}\n",
    "for s in sla: # loop thru date\n",
    "    bsIndex[s['date']] = [s['bpos']-s['bneg'], s['spos']-s['sneg']] # indexes is a tuple\n",
    "\n",
    "#print(bsIndex)\n",
    "data = []\n",
    "for p in provinces.province: # for each date loop thru province\n",
    "    rain = fetchRain(sDate, eDate, p)\n",
    "    \n",
    "    stnId = 0\n",
    "    rainInfo = {}\n",
    "    for r in rain:\n",
    "        stnId = r['stn']\n",
    "        rainInfo[r['date']] = r['rainmm']\n",
    "\n",
    "\n",
    "    pLocation = provinces[provinces.stncode == stnId]\n",
    "    lat = pLocation.iloc[0].lat\n",
    "    lng = pLocation.iloc[0].lng\n",
    "    \n",
    "\n",
    "    # looping over days\n",
    "    for date, bsList in bsIndex.items():\n",
    "        bob = bsList[0]\n",
    "        smt = bsList[1]\n",
    "        try:\n",
    "            data.append([''.join(date.split('-')[1:]), bob, smt, lat, lng, rainInfo[date]])\n",
    "        except:\n",
    "            data.append([''.join(date.split('-')[1:]), bob, smt, lat, lng, 0.0])\n",
    "\n",
    "df = df['rainmm'].shift(1)\n",
    "            \n",
    "df = pd.DataFrame(np.array(data, dtype=float).reshape(27664,6), columns = ['date','bob','smt','lat','lng','rainmm'])\n",
    "df = df.drop_duplicates()\n",
    "\n",
    "# normalisation \n",
    "data = df.values #returns a numpy array\n",
    "x = data[:,:-1]\n",
    "y = data[:,-1]\n",
    "\n",
    "#min_max_scaler = preprocessing.MinMaxScaler()\n",
    "#x = min_max_scaler.fit_transform(x)"
   ]
  },
  {
   "cell_type": "code",
   "execution_count": 36,
   "metadata": {},
   "outputs": [],
   "source": [
    "# creating lag"
   ]
  },
  {
   "cell_type": "code",
   "execution_count": 82,
   "metadata": {},
   "outputs": [
    {
     "data": {
      "text/plain": [
       "GradientBoostingRegressor(learning_rate=0.01, max_depth=13, min_samples_split=5,\n",
       "                          n_estimators=500)"
      ]
     },
     "execution_count": 82,
     "metadata": {},
     "output_type": "execute_result"
    }
   ],
   "source": [
    "# model training \n",
    "params = {'n_estimators': 500,\n",
    "          'max_depth': 13,\n",
    "          'min_samples_split': 5,\n",
    "          'learning_rate': 0.01,\n",
    "          'loss': 'ls'}\n",
    "\n",
    "reg = ensemble.GradientBoostingRegressor(**params)\n",
    "reg.fit(x, y)"
   ]
  },
  {
   "cell_type": "code",
   "execution_count": 81,
   "metadata": {},
   "outputs": [
    {
     "name": "stdout",
     "output_type": "stream",
     "text": [
      "The mean squared error (MSE) on test set: 21.8175\n"
     ]
    }
   ],
   "source": [
    "mse = mean_squared_error(y, reg.predict(x))\n",
    "print(\"The mean squared error (MSE) on test set: {:.4f}\".format(mse))"
   ]
  },
  {
   "cell_type": "code",
   "execution_count": 72,
   "metadata": {},
   "outputs": [
    {
     "data": {
      "text/plain": [
       "array([-0.01821496, -0.06748218, -0.01224248, ...,  0.16235412,\n",
       "        0.37266203,  0.0244207 ])"
      ]
     },
     "execution_count": 72,
     "metadata": {},
     "output_type": "execute_result"
    }
   ],
   "source": [
    "reg.predict(x)"
   ]
  },
  {
   "cell_type": "code",
   "execution_count": 83,
   "metadata": {},
   "outputs": [
    {
     "data": {
      "text/plain": [
       "['static/gboost.joblib']"
      ]
     },
     "execution_count": 83,
     "metadata": {},
     "output_type": "execute_result"
    }
   ],
   "source": [
    "from joblib import dump, load\n",
    "\n",
    "dump(reg, 'static/gboost.joblib')"
   ]
  },
  {
   "cell_type": "code",
   "execution_count": 74,
   "metadata": {},
   "outputs": [
    {
     "data": {
      "text/plain": [
       "[4.017584761322311,\n",
       " 0,\n",
       " 1.1553557283881621,\n",
       " 27.727729717168636,\n",
       " 10.409966946520061,\n",
       " 6.547492355874908,\n",
       " 8.899371088250671,\n",
       " 8.327206086341034,\n",
       " 47.40919648179861,\n",
       " 0.3504317694389019,\n",
       " 0.2276845261160947,\n",
       " 11.441439099623752,\n",
       " 8.78076001746648,\n",
       " 4.017584761322311,\n",
       " 4.017584761322311,\n",
       " 0.5353130296081874,\n",
       " 2.410767771403711,\n",
       " 8.245599888666263,\n",
       " 0.8845572899627272,\n",
       " 3.545339693781684,\n",
       " 3.545339693781684,\n",
       " 2.54677955541033,\n",
       " 32.96872615715629,\n",
       " 19.8060315008078,\n",
       " 42.63377413882235,\n",
       " 0,\n",
       " 2.1836438110444667,\n",
       " 0,\n",
       " 32.059081969400026,\n",
       " 8.17822035342323,\n",
       " 0,\n",
       " 2.4751694762623244,\n",
       " 8.9855354482419,\n",
       " 0.2801746830050911,\n",
       " 1.5959449344802474,\n",
       " 5.071591496301955,\n",
       " 0.14325357678013476,\n",
       " 2.368950923894357,\n",
       " 0,\n",
       " 6.413655413752093,\n",
       " 4.636307590366567,\n",
       " 1.6314731490404522,\n",
       " 3.620886675566674,\n",
       " 2.4318230841184643,\n",
       " 1.9772132611644797,\n",
       " 1.0563372605575154,\n",
       " 3.911212697919157,\n",
       " 0,\n",
       " 1.8762331358192599,\n",
       " 0,\n",
       " 10.240683076798813,\n",
       " 0,\n",
       " 0,\n",
       " 0,\n",
       " 20.523824264122627,\n",
       " 0.6647318343476063,\n",
       " 4.1998812623626804,\n",
       " 5.964114742091958,\n",
       " 10.240683076798813,\n",
       " 0,\n",
       " 0,\n",
       " 0,\n",
       " 4.614013775885189,\n",
       " 7.13741321067879,\n",
       " 1.324834338794621,\n",
       " 0.04022383220085422,\n",
       " 0,\n",
       " 0,\n",
       " 1.3202839661510297,\n",
       " 0.5238161109032938,\n",
       " 1.8583385308096898,\n",
       " 0.2860412275308636,\n",
       " 0,\n",
       " 0,\n",
       " 1.773353515368484,\n",
       " 0.10137891879543524]"
      ]
     },
     "execution_count": 74,
     "metadata": {},
     "output_type": "execute_result"
    }
   ],
   "source": [
    "date='2021-02-01'\n",
    "bob=1\n",
    "smt=1\n",
    "\n",
    "reg = load('static/gboost.joblib')\n",
    "stationFile = 'static/thailand_metstation.csv'\n",
    "provinces = pd.read_csv(stationFile, dtype={\"province\": str, \"region\":str, \"stncode\":str})\n",
    "\n",
    "rainPredict = [0] * len(provinces)\n",
    "x_test = []\n",
    "for i, p in provinces.iterrows():\n",
    "    lat = p.lat \n",
    "    lng = p.lng\n",
    "    pred = reg.predict(np.array([''.join(date.split('-')[1:]), bob, smt, lat, lng]).reshape(1,-1))[0]\n",
    "    if pred < 0:\n",
    "        rainPredict[i] = 0\n",
    "    else:\n",
    "        rainPredict[i] = pred\n",
    "\n",
    "rainPredict"
   ]
  }
 ],
 "metadata": {
  "kernelspec": {
   "display_name": "Python 3",
   "language": "python",
   "name": "python3"
  },
  "language_info": {
   "codemirror_mode": {
    "name": "ipython",
    "version": 3
   },
   "file_extension": ".py",
   "mimetype": "text/x-python",
   "name": "python",
   "nbconvert_exporter": "python",
   "pygments_lexer": "ipython3",
   "version": "3.8.3"
  }
 },
 "nbformat": 4,
 "nbformat_minor": 4
}
